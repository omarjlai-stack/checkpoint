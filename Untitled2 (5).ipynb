{
 "cells": [
  {
   "cell_type": "code",
   "execution_count": null,
   "metadata": {},
   "outputs": [],
   "source": [
    "for x in range(2002,3200,7):\n",
    "   x%5!=0\n",
    "   print(x)"
   ]
  },
  {
   "cell_type": "code",
   "execution_count": null,
   "metadata": {},
   "outputs": [],
   "source": [
    "x=int(input())\n",
    "y=1\n",
    "for I in range(1,x+1):\n",
    "    y=y*I\n",
    "print(y)"
   ]
  },
  {
   "cell_type": "code",
   "execution_count": null,
   "metadata": {},
   "outputs": [],
   "source": [
    "x=int(input())\n",
    "for I in range(1,x+1):\n",
    "    MyDict[I]=I*I\n",
    "prinT(MyDict)"
   ]
  },
  {
   "cell_type": "code",
   "execution_count": null,
   "metadata": {},
   "outputs": [],
   "source": [
    "c=50 ; h = 30 ; x=[]\n",
    "y = input (\"donner la sequence \" )\n",
    "l = y.split(',')\n",
    "for d in l : \n",
    "    q= int (((2*c*int(d))/h)**(1/2))\n",
    "    x.append(str(q))\n",
    "print (','.join(x))"
   ]
  },
  {
   "cell_type": "code",
   "execution_count": null,
   "metadata": {},
   "outputs": [],
   "source": [
    "def missing_char(str, n):\n",
    "    C= str[:n]  \n",
    "    X= str[n+1:]   \n",
    "    print(C + X)\n",
    "missing_char('kitten', 1) \n",
    "missing_char('kitten', 0) \n",
    "missing_char('kitten', 4)"
   ]
  },
  {
   "cell_type": "code",
   "execution_count": null,
   "metadata": {},
   "outputs": [],
   "source": [
    "s = input()\n",
    "s1=\"\"\n",
    "for x in range(0,len(s)):\n",
    "    if s[x]==\"y\":\n",
    "        s1 = s1 + \"a\"\n",
    "    elif s[x]==\"z\":\n",
    "        s1 = s1 + \"b\"\n",
    "    elif s[x]==\" \" or s[x]== \".\" or s[x]==\"'\" or s[x]==\"(\" or s[x]==\")\":\n",
    "        s1 = s1 + s[x]\n",
    "    else:\n",
    "        s1 = s1 + chr(ord(s[x])+2)\n",
    "print(s1)"
   ]
  },
  {
   "cell_type": "code",
   "execution_count": null,
   "metadata": {},
   "outputs": [],
   "source": [
    "import numpy as np\n",
    "x= np.arange(6).reshape(3, 2)\n",
    "print([[0 1] [2 3] [4 5]:\")\n",
    "print(x)\n",
    "print(\"Array to list:\")\n",
    "print(x.tolist())"
   ]
  },
  {
   "cell_type": "code",
   "execution_count": null,
   "metadata": {},
   "outputs": [],
   "source": [
    "import numpy as np\n",
    "x = np.array([0, 1, 2])\n",
    "y = np.array([2, 1, 0])\n",
    "np.cov(x,y)"
   ]
  }
 ],
 "metadata": {
  "kernelspec": {
   "display_name": "Python 3",
   "language": "python",
   "name": "python3"
  },
  "language_info": {
   "codemirror_mode": {
    "name": "ipython",
    "version": 3
   },
   "file_extension": ".py",
   "mimetype": "text/x-python",
   "name": "python",
   "nbconvert_exporter": "python",
   "pygments_lexer": "ipython3",
   "version": "3.7.6"
  }
 },
 "nbformat": 4,
 "nbformat_minor": 4
}
